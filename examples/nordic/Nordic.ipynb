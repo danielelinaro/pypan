{
 "cells": [
  {
   "cell_type": "code",
   "execution_count": 1,
   "metadata": {},
   "outputs": [],
   "source": [
    "import pypan.ui as pan\n",
    "from pypan.utils import *\n",
    "import numpy as np\n",
    "import matplotlib.pyplot as plt\n",
    "%matplotlib inline"
   ]
  },
  {
   "cell_type": "code",
   "execution_count": 2,
   "metadata": {},
   "outputs": [],
   "source": [
    "pyultc_setup = lambda: {'TW': 30.}\n",
    "\n",
    "def pyultc_eval(n, V, I, time, **kwargs):\n",
    "    TW = kwargs['TW']\n",
    "    Vmag = \n",
    "    r = 1\n",
    "    f = np.array([V[0] - r * I[0], V[1] - r * I[1], V[2] - r * I[2]])\n",
    "    C = np.eye(3)\n",
    "    R = -r * np.eye(3)\n",
    "    return f, C, R"
   ]
  },
  {
   "cell_type": "markdown",
   "metadata": {},
   "source": [
    "### Load the netlist"
   ]
  },
  {
   "cell_type": "code",
   "execution_count": 3,
   "metadata": {},
   "outputs": [],
   "source": [
    "netlist_file = 'nordic.pan'\n",
    "ok,libs = pan.load_netlist(netlist_file)\n",
    "if not ok:\n",
    "    print('load_netlist failed.')"
   ]
  },
  {
   "cell_type": "markdown",
   "metadata": {},
   "source": [
    "### Run a DC analysis"
   ]
  },
  {
   "cell_type": "code",
   "execution_count": 4,
   "metadata": {},
   "outputs": [],
   "source": [
    "pan.DC('Dc', nettype=1, sparse=2, gminstepping='no', ggroundstepping='no')"
   ]
  },
  {
   "cell_type": "markdown",
   "metadata": {},
   "source": [
    "### Run a poles-zeros analysis"
   ]
  },
  {
   "cell_type": "code",
   "execution_count": 5,
   "metadata": {},
   "outputs": [
    {
     "name": "stdout",
     "output_type": "stream",
     "text": [
      "Max real pole: 0.199074 Hz\n"
     ]
    }
   ],
   "source": [
    "data = pan.PZ('Pz', mem_vars=['poles'], nettype=1, shift=0.3276152)\n",
    "poles = data[0] / (2 * np.pi)\n",
    "max_pole = np.real(poles).max()\n",
    "print('Max real pole: {:g} Hz'.format(max_pole))"
   ]
  },
  {
   "cell_type": "markdown",
   "metadata": {},
   "source": [
    "Make sure that the results read from memory are the same printed on screen:"
   ]
  },
  {
   "cell_type": "raw",
   "metadata": {},
   "source": [
    "tmp = np.loadtxt('poles.txt')\n",
    "poles_check = tmp[:,0] + 1j * tmp[:,1]\n",
    "\n",
    "ms = 4\n",
    "lw = 1.25\n",
    "fig,ax = plt.subplots(1, 1, figsize=(6,5))\n",
    "ax.plot(np.real(poles), np.imag(poles), 'ko', markersize=ms, markeredgewidth=lw, markerfacecolor='w')\n",
    "ax.plot(np.real(poles_check), np.imag(poles_check), 'ro', markersize=ms, markeredgewidth=lw, markerfacecolor='w')\n",
    "ax.set_xlabel('Real part')\n",
    "ax.set_ylabel('Imaginary part')\n",
    "fig.tight_layout()"
   ]
  },
  {
   "cell_type": "markdown",
   "metadata": {},
   "source": [
    "### Run a first transient analysis lasting 100 seconds"
   ]
  },
  {
   "cell_type": "code",
   "execution_count": 6,
   "metadata": {},
   "outputs": [],
   "source": [
    "tstop = 100\n",
    "mem_vars = ['time', 'omega1', 'tap1', 'tap1py']\n",
    "options = {'devvars': 1, 'nettype': 1, 'annotate': 5, 'saman': 1, \\\n",
    "        'tinc': 1.5, 'ireltol': 1e-3, 'iabstol': 1e-6, 'vreltol': 1e-3, \\\n",
    "        'sparse': 2, 'acntrl': 3, 'ltefactor': 1, 'method': 2, 'maxord': 2, \\\n",
    "        'savelist': '[\"[Oo]mega\",\"tap\"]'}\n",
    "data = pan.tran('Tr1', tstop, mem_vars, libs, **options)\n",
    "time     = data[0]\n",
    "omega_G1 = data[1]\n",
    "tap1     = data[2]\n",
    "tap1py   = data[3]"
   ]
  },
  {
   "cell_type": "code",
   "execution_count": 7,
   "metadata": {},
   "outputs": [
    {
     "data": {
      "image/png": "[encoded data removed]",
      "text/plain": [
       "<Figure size 504x360 with 1 Axes>"
      ]
     },
     "metadata": {
      "needs_background": "light"
     },
     "output_type": "display_data"
    }
   ],
   "source": [
    "fig,ax = plt.subplots(1, 1, figsize=(7,5))\n",
    "ax.plot(time, omega_G1, 'k', linewidth=1)\n",
    "ax.plot([50,50], ax.get_ylim(), 'r--', lw=2)\n",
    "ax.set_xlabel('Time [s]')\n",
    "ax.set_ylabel(r'$\\omega_{G_{14}}$ [p.u.]')\n",
    "fig.tight_layout()"
   ]
  },
  {
   "cell_type": "code",
   "execution_count": 8,
   "metadata": {},
   "outputs": [
    {
     "data": {
      "image/png": "[encoded data removed]",
      "text/plain": [
       "<Figure size 504x360 with 1 Axes>"
      ]
     },
     "metadata": {
      "needs_background": "light"
     },
     "output_type": "display_data"
    }
   ],
   "source": [
    "fig,ax = plt.subplots(1, 1, figsize=(7,5))\n",
    "ax.plot(time, tap1, 'k', linewidth=1)\n",
    "fig.tight_layout()"
   ]
  },
  {
   "cell_type": "markdown",
   "metadata": {},
   "source": [
    "### Open a line"
   ]
  },
  {
   "cell_type": "raw",
   "metadata": {},
   "source": [
    "pan.alter('AlLine', param='open', value=1, instance='Ln#4032#4044', invalidate=0);"
   ]
  },
  {
   "cell_type": "markdown",
   "metadata": {},
   "source": [
    "### Run a second transient analysis until 150 seconds"
   ]
  },
  {
   "cell_type": "raw",
   "metadata": {},
   "source": [
    "tstop = 150\n",
    "options['restart'] = 0\n",
    "data = pan.tran('Tr2', tstop, mem_vars, libs, **options)\n",
    "time     = np.concatenate((time, data[0]))\n",
    "omega_G1 = np.concatenate((omega_G1, data[1]))\n",
    "tap1     = np.concatenate((tap1, data[2]))\n",
    "tap1py   = np.concatenate((tap1py, data[3]))"
   ]
  },
  {
   "cell_type": "markdown",
   "metadata": {},
   "source": [
    "#### Plot the results"
   ]
  }
 ],
 "metadata": {
  "kernelspec": {
   "display_name": "Python 3",
   "language": "python",
   "name": "python3"
  },
  "language_info": {
   "codemirror_mode": {
    "name": "ipython",
    "version": 3
   },
   "file_extension": ".py",
   "mimetype": "text/x-python",
   "name": "python",
   "nbconvert_exporter": "python",
   "pygments_lexer": "ipython3",
   "version": "3.6.9"
  }
 },
 "nbformat": 4,
 "nbformat_minor": 4
}
