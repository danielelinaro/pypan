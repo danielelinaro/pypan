{
 "cells": [
  {
   "cell_type": "markdown",
   "id": "b5420d03",
   "metadata": {},
   "source": [
    "## Two-area network with a stochastic load"
   ]
  },
  {
   "cell_type": "markdown",
   "id": "e5b1d9a1",
   "metadata": {},
   "source": [
    "The purpose of this notebook is to show how pan can be used to simulate the two-area power network with a stochastic load. The behavior of the load is described by two Python functions and the time series defining the stochastic load is also created in Python."
   ]
  },
  {
   "cell_type": "markdown",
   "id": "03b93823",
   "metadata": {},
   "source": [
    "A single line schematic of Kundur's two area network is shown below:\n",
    "\n",
    "<a href=\"https://www.researchgate.net/figure/Kundurs-two-area-power-system_fig1_281703659\"><img src=\"https://www.researchgate.net/profile/Zahra-Rafi/publication/281703659/figure/fig1/AS:338164796411905@1457636178242/Kundurs-two-area-power-system.png\" alt=\"Kundur's two-area power system\"/></a>\n",
    "\n",
    "In the netlist used here, the loads connected at buses 7 and 9 are stochastic, i.e., their values are described by an Ornstein-Uhlenbeck process."
   ]
  },
  {
   "cell_type": "code",
   "execution_count": null,
   "id": "91fbaa1d",
   "metadata": {},
   "outputs": [],
   "source": [
    "import pypan.ui as pan\n",
    "import numpy as np\n",
    "from numpy.random import RandomState, SeedSequence, MT19937\n",
    "from scipy.signal import periodogram\n",
    "import matplotlib\n",
    "import matplotlib.pyplot as plt\n",
    "matplotlib.rc('font', **{'family': 'Times New Roman', 'size': 8})\n",
    "%matplotlib inline"
   ]
  },
  {
   "cell_type": "markdown",
   "id": "8012c98e",
   "metadata": {},
   "source": [
    "The [netlist file](two-area.pan) contains the following line:\n",
    "\n",
    "`model STLOAD nport macro=yes setup=\"stoch_load_setup\" evaluate=\"stoch_load_eval\"`\n",
    "\n",
    "which instructs pan to look for two Python functions called `stoch_load_setup` and `stoch_load_eval` when initializing and evaluating the N-port instance, respectively. The initialization function must return a dictionary with the parameters names as keys and their default value as values, while the evaluation function must return the implicit equations describing the N-port and their derivative w.r.t. currents and voltages. \n",
    "    \n",
    "For a more detailed description of how to implement an N-port device in Python, see [this notebook](../NPort.ipynb)."
   ]
  },
  {
   "cell_type": "code",
   "execution_count": null,
   "id": "2637a5fe",
   "metadata": {},
   "outputs": [],
   "source": [
    "def stoch_load_setup():\n",
    "    return {'P': 1e6}\n",
    "\n",
    "def stoch_load_eval(n, V, I, time, **kwargs):\n",
    "    MIN_MAGNITUDE = 200e3 ** 2\n",
    "    P = kwargs['P'] * V[2] # active power\n",
    "    Q = 0\n",
    "    magnitude = V[0]**2 + V[1]**2\n",
    "    if magnitude < MIN_MAGNITUDE:\n",
    "        magnitude = MIN_MAGNITUDE\n",
    "    magnitude_squared = magnitude ** 2\n",
    "    \n",
    "    f = np.array([\n",
    "        I[0] - (V[0] * P + V[1] * Q) / magnitude,\n",
    "        I[1] - (V[1] * P - V[0] * Q) / magnitude,\n",
    "        I[2]\n",
    "    ])\n",
    "\n",
    "    C = np.zeros((n, n))\n",
    "    C[0,0] = -( P / magnitude - (V[0] * P + V[1] * Q) * 2 * V[0] / magnitude_squared)\n",
    "    C[0,1] = -( Q / magnitude - (V[0] * P + V[1] * Q) * 2 * V[1] / magnitude_squared)\n",
    "    C[0,2] = -(kwargs['P'] * V[0] / magnitude)\n",
    "    C[1,0] = -(-Q / magnitude - (V[1] * P - V[0] * Q) * 2 * V[0] / magnitude_squared)\n",
    "    C[1,1] = -( P / magnitude - (V[1] * P - V[0] * Q) * 2 * V[1] / magnitude_squared)\n",
    "    C[1,2] = -(kwargs['P'] * V[1] / magnitude)\n",
    "\n",
    "    R = np.eye(n)\n",
    "        \n",
    "    return f, C, R"
   ]
  },
  {
   "cell_type": "markdown",
   "id": "4bb3a472",
   "metadata": {},
   "source": [
    "Here we define the two functions that are used to generate the Ornstein-Uhlenbeck process and to build a two-row matrix containing the time instants and the OU samples."
   ]
  },
  {
   "cell_type": "code",
   "execution_count": null,
   "id": "d3614914",
   "metadata": {},
   "outputs": [],
   "source": [
    "def OU(dt, alpha, mu, sigma, N, random_state = None):\n",
    "    coeff = np.array([alpha * mu * dt, 1 / (1 + alpha * dt)])\n",
    "    if random_state is not None:\n",
    "        rnd = sigma * np.sqrt(dt) * random_state.normal(size=N)\n",
    "    else:\n",
    "        rnd = sigma * np.sqrt(dt) * np.random.normal(size=N)\n",
    "    ou = np.zeros(N)\n",
    "    ou[0] = mu\n",
    "    for i in range(N-1):\n",
    "        ou[i+1] = (ou[i] + coeff[0] + rnd[i]) * coeff[1]\n",
    "    return ou\n",
    "\n",
    "def make_noise_samples(tstart, tend, dt, alpha, mu, sigma, seed):\n",
    "    t = dt + np.r_[tstart : tend + dt/2 : dt]\n",
    "    N_samples = t.size\n",
    "    state = RandomState(MT19937(SeedSequence(seed)))\n",
    "    noise_samples = np.zeros((2, N_samples))\n",
    "    noise_samples[0,:] = t\n",
    "    noise_samples[1,:] = OU(dt, alpha, mu, sigma, N_samples, state)\n",
    "    return noise_samples"
   ]
  },
  {
   "cell_type": "markdown",
   "id": "7839ed0c",
   "metadata": {},
   "source": [
    "The following two lines in the [netlist file](two-area.pan)\n",
    "\n",
    "`V7   rnd7   gnd  vsource wave=\"noise_samples_bus_7\"` <br/>\n",
    "`V9   rnd9   gnd  vsource wave=\"noise_samples_bus_9\"`\n",
    "\n",
    "tell pan that it should look for two variables (called `noise_samples_bus_7` and `noise_samples_bus_9`) in Python memory to use as waveforms for the `V7` and `V9` voltage source objects.\n",
    "\n",
    "We therefore build these two variables by calling the `make_noise_sample` function defined above."
   ]
  },
  {
   "cell_type": "code",
   "execution_count": null,
   "id": "23c1de1f",
   "metadata": {},
   "outputs": [],
   "source": [
    "alpha = 0.5\n",
    "mu = 0\n",
    "sigma = 0.5\n",
    "frand = 10\n",
    "dt = 1 / frand\n",
    "tstart = 0\n",
    "tstop = 1 * 60 * 60\n",
    "\n",
    "noise_samples_bus_7 = make_noise_samples(tstart, 1.01 * tstop, dt,\n",
    "                                         alpha, mu, sigma, 1234567)\n",
    "noise_samples_bus_9 = make_noise_samples(tstart, 1.01 * tstop, dt,\n",
    "                                         alpha, mu, sigma, 6234160)"
   ]
  },
  {
   "cell_type": "markdown",
   "id": "ea340764",
   "metadata": {},
   "source": [
    "### Load the netlist"
   ]
  },
  {
   "cell_type": "code",
   "execution_count": null,
   "id": "25f277ec",
   "metadata": {},
   "outputs": [],
   "source": [
    "netlist_file = 'two-area.pan'\n",
    "ok,libs = pan.load_netlist(netlist_file)\n",
    "if not ok:\n",
    "    raise Exception('load_netlist failed')"
   ]
  },
  {
   "cell_type": "markdown",
   "id": "63f3fbda",
   "metadata": {},
   "source": [
    "### Run a transient analysis\n",
    "\n",
    "By defining `mem_vars`, we ask pan to return the values of these variables saved to memory when `pan.tran` returns. In this way, we don't have to load the same data from a file."
   ]
  },
  {
   "cell_type": "code",
   "execution_count": null,
   "id": "7a3b70a0",
   "metadata": {},
   "outputs": [],
   "source": [
    "mem_vars = ['time', 'omega1', 'omega2', 'omega3', 'omega4']\n",
    "data = pan.tran('Tr', tstop, mem_vars, libs, nettype=1,\n",
    "                method=1, timepoints=1/frand, forcetps=1)"
   ]
  },
  {
   "cell_type": "markdown",
   "id": "57e01d5b",
   "metadata": {},
   "source": [
    "### Compute the PSD of the rotors' angular velocities"
   ]
  },
  {
   "cell_type": "code",
   "execution_count": null,
   "id": "d415bafe",
   "metadata": {},
   "outputs": [],
   "source": [
    "time = data[0]\n",
    "omega = {i: 60 * data[i] for i in range(1,len(data))}\n",
    "P = {}\n",
    "for i,x in omega.items():\n",
    "    f,P[i] = periodogram(x, frand, window='boxcar')"
   ]
  },
  {
   "cell_type": "markdown",
   "id": "0f38ba8a",
   "metadata": {},
   "source": [
    "### Plot the results"
   ]
  },
  {
   "cell_type": "code",
   "execution_count": null,
   "id": "fdb22c4a",
   "metadata": {},
   "outputs": [],
   "source": [
    "fig,ax = plt.subplots(1, 1, figsize=(6, 4))\n",
    "cmap = plt.get_cmap('Dark2', len(P))\n",
    "for i in P:\n",
    "    ax.plot(f, 10 * np.log10(P[i]), color=cmap(i-1), lw=1, label=r'$\\omega_{}$'.format(i))\n",
    "for side in 'right','top':\n",
    "    ax.spines[side].set_visible(False)\n",
    "ax.legend(loc='upper right')\n",
    "ax.set_ylim([-185, -50])\n",
    "ax.grid(which='major', axis='both', linestyle=':', linewidth=0.5, color=[.6,.6,.6])\n",
    "ax.set_xlabel('Frequency [Hz]')\n",
    "ax.set_ylabel('Power [dB]')\n",
    "ax.set_yticks(np.r_[-180 : -30 : 25])\n",
    "fig.tight_layout()\n",
    "fig.savefig('stochastic_load.pdf')"
   ]
  }
 ],
 "metadata": {
  "kernelspec": {
   "display_name": "Python 3",
   "language": "python",
   "name": "python3"
  },
  "language_info": {
   "codemirror_mode": {
    "name": "ipython",
    "version": 3
   },
   "file_extension": ".py",
   "mimetype": "text/x-python",
   "name": "python",
   "nbconvert_exporter": "python",
   "pygments_lexer": "ipython3",
   "version": "3.7.3"
  }
 },
 "nbformat": 4,
 "nbformat_minor": 5
}
