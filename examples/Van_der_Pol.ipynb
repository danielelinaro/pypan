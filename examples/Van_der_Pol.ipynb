{
 "cells": [
  {
   "cell_type": "markdown",
   "metadata": {},
   "source": [
    "## Example of usage of the Python interface to the circuit simulator PAN"
   ]
  },
  {
   "cell_type": "code",
   "execution_count": null,
   "metadata": {},
   "outputs": [],
   "source": [
    "import pypan.ui as pan\n",
    "import numpy as np\n",
    "import matplotlib.pyplot as plt\n",
    "%matplotlib inline"
   ]
  },
  {
   "cell_type": "markdown",
   "metadata": {},
   "source": [
    "The purpose of this notebook is to show some of PAN's basic functionalities that can be accessed by means of the Python interface.\n",
    "\n",
    "We will use a netlist that implements the Van der Pol oscillator, whose equations are the following:\n",
    "\n",
    "$$\n",
    "\\begin{equation*}\n",
    "\\left\\{\n",
    "\\begin{array}{rcl}\n",
    "\\dot{x} & = & \\epsilon\\ (1 - x^2)\\ x - y \\\\\n",
    "\\dot{y} & = & x \\ ,\n",
    "\\end{array}\n",
    "\\right.\n",
    "\\end{equation*}\n",
    "$$\n",
    "\n",
    "where $x$ represents the voltage across the capacitor, $y$ is the current in the inductor and the parameter $\\epsilon$ is a positive constant that determines the frequency of the oscillator. If $\\epsilon \\ll 1$, the oscillating frequency is equal to $2\\pi$, whereas if $\\epsilon$ is larger, the frequency is a function of $\\epsilon$ itself.\n",
    "\n",
    "We will start with $\\epsilon=0.001$ and then increase it to 5."
   ]
  },
  {
   "cell_type": "markdown",
   "metadata": {},
   "source": [
    "The following netlist defines the Van der Pol circuit in PAN."
   ]
  },
  {
   "cell_type": "code",
   "execution_count": null,
   "metadata": {},
   "outputs": [],
   "source": [
    "netlist = \"\"\"\\\n",
    "ground electrical gnd\n",
    "\n",
    "parameter EPS=1m\n",
    "\n",
    "; This dummy alter is necessary to be able to change the value of the parameter from Python\n",
    "Alrt alter param=\"EPS\" rt=yes\n",
    "\n",
    "; The circuit\n",
    "\n",
    "p1    x   gnd  x    vccs func=-EPS*v(x) + EPS*v(x)^3\n",
    "c1    x   gnd  capacitor c=1 icon=2m\n",
    "l1    x   gnd  inductor  l=1\n",
    "\"\"\""
   ]
  },
  {
   "cell_type": "markdown",
   "metadata": {},
   "source": [
    "Write the above netlist to file."
   ]
  },
  {
   "cell_type": "code",
   "execution_count": null,
   "metadata": {},
   "outputs": [],
   "source": [
    "netlist_file = 'vanderpol.pan'\n",
    "with open(netlist_file, 'w') as fid:\n",
    "    fid.write(netlist)"
   ]
  },
  {
   "cell_type": "markdown",
   "metadata": {},
   "source": [
    "### Load the netlist with the description of the circuit\n",
    "No analysis is performed at this point, since none is defined in the netlist."
   ]
  },
  {
   "cell_type": "code",
   "execution_count": null,
   "metadata": {},
   "outputs": [],
   "source": [
    "ok,libs = pan.load_netlist(netlist_file)\n",
    "if not ok:\n",
    "    print('load_netlist failed.')"
   ]
  },
  {
   "cell_type": "markdown",
   "metadata": {},
   "source": [
    "### Run a first (short) transient analysis"
   ]
  },
  {
   "cell_type": "code",
   "execution_count": null,
   "metadata": {},
   "outputs": [],
   "source": [
    "tstop = 1000\n",
    "mem_vars = ['time', 'x', 'l1:i']\n",
    "tran = pan.tran('Tr', tstop, mem_vars, libs, uic=1, vreltol=1e-6, vabstol=1e-9)"
   ]
  },
  {
   "cell_type": "markdown",
   "metadata": {},
   "source": [
    "### Run a longer envelope analysis\n",
    "The dynamics of the system are very slow, hence it is convenient to use an envelope analysis to speed up the integration of the system."
   ]
  },
  {
   "cell_type": "code",
   "execution_count": null,
   "metadata": {},
   "outputs": [],
   "source": [
    "tstop = 50e3\n",
    "T = 2*np.pi\n",
    "env = pan.envelope('En', tstop, T, mem_vars, autonomous='yes', restart='no')"
   ]
  },
  {
   "cell_type": "markdown",
   "metadata": {},
   "source": [
    "### Run a shooting analysis\n",
    "We can confirm that the envelope integration has reached the steady-state by comparing the last cycle obtained with the envelope with the one found by means of the shooting procedure."
   ]
  },
  {
   "cell_type": "code",
   "execution_count": null,
   "metadata": {},
   "outputs": [],
   "source": [
    "shoot_1 = pan.shooting('Sh1', T, mem_vars, autonomous='yes', restart='no')"
   ]
  },
  {
   "cell_type": "markdown",
   "metadata": {},
   "source": [
    "### Alter the value of a parameter\n",
    "We increase the value of $\\epsilon$ from 0.001 to 5."
   ]
  },
  {
   "cell_type": "code",
   "execution_count": null,
   "metadata": {},
   "outputs": [],
   "source": [
    "pan.alter('Al', 'EPS', 5, invalidate='no', annotate=4);"
   ]
  },
  {
   "cell_type": "markdown",
   "metadata": {},
   "source": [
    "### Run a second shooting analysis\n",
    "We want to see how much the shape of the limit cycle has changed with the new value of $\\epsilon$."
   ]
  },
  {
   "cell_type": "code",
   "execution_count": null,
   "metadata": {},
   "outputs": [],
   "source": [
    "shoot_2 = pan.shooting('Sh2', T, mem_vars, autonomous='yes', restart='no')"
   ]
  },
  {
   "cell_type": "markdown",
   "metadata": {},
   "source": [
    "### Plot the results"
   ]
  },
  {
   "cell_type": "code",
   "execution_count": null,
   "metadata": {
    "scrolled": false
   },
   "outputs": [],
   "source": [
    "fig,ax = plt.subplots(2, 2, figsize=(12,8))\n",
    "for i in range(1):\n",
    "    ax[0,i].plot(tran[0], tran[i+1], 'k', linewidth=1, label='Tran')\n",
    "    ax[0,i].plot(env[0], env[i+1], 'r', linewidth=1, label='Envelope')\n",
    "    ax[0,i].plot(shoot_1[0], shoot_1[i+1], 'g', linewidth=1, label='Shooting-1')\n",
    "    ax[0,i].plot(shoot_2[0], shoot_2[i+1], 'm', linewidth=1, label='Shooting-2')\n",
    "    ax[0,i].set_xlabel('Time [s]')\n",
    "\n",
    "ax[0,1].plot(shoot_1[1], shoot_1[2], 'g', linewidth=2, label='Shooting-1')\n",
    "ax[0,1].plot(shoot_2[1], shoot_2[2], 'm', linewidth=2, label='Shooting-2')\n",
    "    \n",
    "ax[0,0].set_ylabel(r'$v_C$ [V]')\n",
    "ax[0,1].set_xlabel(r'$v_C$ [V]')\n",
    "ax[0,1].set_ylabel(r'$i_L$ [A]')\n",
    "\n",
    "ax[0,0].legend(loc='best')\n",
    "\n",
    "idx, = np.where(tran[0] > 950)\n",
    "ax[1,0].plot(tran[0][idx], tran[1][idx], 'k', linewidth=1)\n",
    "idx, = np.where(env[0] < 1100)\n",
    "ax[1,0].plot(env[0][idx], env[1][idx], 'r', linewidth=1)\n",
    "ax[1,0].set_xlabel('Time [s]')\n",
    "ax[1,0].set_ylabel(r'$v_C$ [V]')\n",
    "\n",
    "idx, = np.where(env[0] > tstop-1000)\n",
    "ax[1,1].plot(env[0][idx], env[1][idx], 'r', linewidth=2)\n",
    "ax[1,1].plot(shoot_1[0], shoot_1[1], 'g', linewidth=2)\n",
    "ax[1,1].plot(shoot_2[0], shoot_2[1], 'm', linewidth=2)\n",
    "ax[1,1].set_xlabel('Time [s]')\n",
    "ax[1,1].set_ylabel(r'$v_C$ [V]')\n",
    "ax[1,1].set_xlim([tstop - 5*np.pi, shoot_2[0][-1]])\n",
    "\n",
    "fig.tight_layout()"
   ]
  }
 ],
 "metadata": {
  "kernelspec": {
   "display_name": "Python 3",
   "language": "python",
   "name": "python3"
  },
  "language_info": {
   "codemirror_mode": {
    "name": "ipython",
    "version": 3
   },
   "file_extension": ".py",
   "mimetype": "text/x-python",
   "name": "python",
   "nbconvert_exporter": "python",
   "pygments_lexer": "ipython3",
   "version": "3.7.3"
  }
 },
 "nbformat": 4,
 "nbformat_minor": 2
}
