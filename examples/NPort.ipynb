{
 "cells": [
  {
   "cell_type": "markdown",
   "metadata": {},
   "source": [
    "## How to implement an N-port device in Python to be used in PAN"
   ]
  },
  {
   "cell_type": "code",
   "execution_count": null,
   "metadata": {},
   "outputs": [],
   "source": [
    "import pypan.ui as pan\n",
    "import numpy as np\n",
    "from scipy.optimize import fminbound\n",
    "import matplotlib.pyplot as plt\n",
    "%matplotlib inline"
   ]
  },
  {
   "cell_type": "markdown",
   "metadata": {},
   "source": [
    "The purpose of this notebook is to show how to implement an n-port device in Python to be used in PAN.\n",
    "\n",
    "### The netlist\n",
    "\n",
    "We start by defining the netlist we will use: the <tt>PYRESISTOR</tt> model defines an n-port that will implement a linear resistor, analogous to the <tt>resistor</tt> device already present in PAN.\n",
    "\n",
    "The <tt>setup</tt> and <tt>evaluate</tt> parameters of the <tt>nport</tt> device specify the names of the Python functions that will be called upon initialization (in this case <tt>pyres_setup</tt>) and during simulation (in this case <tt>pyres_eval</tt>). "
   ]
  },
  {
   "cell_type": "code",
   "execution_count": null,
   "metadata": {},
   "outputs": [],
   "source": [
    "R0 = 5\n",
    "netlist = \"\"\"\\\n",
    "ground electrical gnd\n",
    "\n",
    "E1  x   gnd  vsource     dc=10\n",
    "R1  x   y    resistor    r={}\n",
    "I1  y   gnd  PYRESISTOR  resistance={}\n",
    "\n",
    "model PYRESISTOR nport macro=yes setup=\"pyres_setup\" evaluate=\"pyres_eval\"\n",
    "\"\"\".format(R0, 2*R0)"
   ]
  },
  {
   "cell_type": "markdown",
   "metadata": {},
   "source": [
    "#### Write the above netlist to file"
   ]
  },
  {
   "cell_type": "code",
   "execution_count": null,
   "metadata": {},
   "outputs": [],
   "source": [
    "netlist_file = 'nport.pan'\n",
    "with open(netlist_file, 'w') as fid:\n",
    "    fid.write(netlist)"
   ]
  },
  {
   "cell_type": "markdown",
   "metadata": {},
   "source": [
    "### Initialization of the n-port\n",
    "\n",
    "This function is called once upon initialization of the n-port and must return a dictionary, where each (key,value) pair represents the name and default value of a parameter of the n-port, in this case the resistance of the linear resistor.\n",
    "\n",
    "These default values will be passed by PAN to the Python evaluation function if no parameter is passed to the specific instance of the model (i.e., if the netlist line\n",
    "\n",
    "<tt>I1  y   gnd  PYRESISTOR  resistance=R</tt>\n",
    "\n",
    "were replaced by\n",
    "\n",
    "<tt>I1  y   gnd  PYRESISTOR</tt>\n",
    "\n",
    "then the <tt>resistance</tt> parameter would automatically be set to the default value specified by <tt>pyres_setup</tt>.\n",
    "\n",
    "We use a lambda function because the setup function must be callable, i.e. a constant dictionary would not be sufficient in this case."
   ]
  },
  {
   "cell_type": "code",
   "execution_count": null,
   "metadata": {},
   "outputs": [],
   "source": [
    "pyres_setup = lambda: {'resistance': 1}"
   ]
  },
  {
   "cell_type": "markdown",
   "metadata": {},
   "source": [
    "### Evaluation of the n-port\n",
    "\n",
    "This function defines the characteristic of the n-port.\n",
    "\n",
    "It takes the following arguments:\n",
    "\n",
    "1. <tt>n</tt>: a scalar indicating the number of ports of the n-port.\n",
    "1. <tt>V</tt>: a NumPy array containing the port voltages.\n",
    "1. <tt>I</tt>: a NumPy array containing the port currents.\n",
    "1. <tt>time</tt>: a scalar containing the time instant at which the function is evaluated.\n",
    "1. <tt>kwargs</tt>: a series of (key,value) pairs representing the parameters of the n-port, as specified by the setup function.\n",
    "\n",
    "It must return the following values:\n",
    "\n",
    "1. <tt>f</tt>: an <tt>n</tt>-by-1 array containing the values of the implicit algebraic equation(s) f(V,I) = 0 describing the n-port.\n",
    "1. <tt>C</tt>: an <tt>n</tt>-by-<tt>n</tt> sensitivity matrix containing the derivatives of <tt>f</tt> with respect to the voltages.\n",
    "1. <tt>R</tt>: an <tt>n</tt>-by-<tt>n</tt> sensitivity matrix containing the derivatives of <tt>f</tt> with respect to the currents."
   ]
  },
  {
   "cell_type": "code",
   "execution_count": null,
   "metadata": {},
   "outputs": [],
   "source": [
    "def pyres_eval(n, V, I, time, **kwargs):\n",
    "    r = kwargs['resistance']\n",
    "    f = np.array([V[0] - r * I[0]])\n",
    "    C = np.array([1.0], ndmin=2)\n",
    "    R = np.array([-r], ndmin=2)\n",
    "    return f, C, R"
   ]
  },
  {
   "cell_type": "markdown",
   "metadata": {},
   "source": [
    "### Load the netlist with the description of the circuit\n",
    "No analysis is performed at this point, since none are defined in the netlist."
   ]
  },
  {
   "cell_type": "code",
   "execution_count": null,
   "metadata": {},
   "outputs": [],
   "source": [
    "ok,libs = pan.load_netlist(netlist_file)\n",
    "if not ok:\n",
    "    print('load_netlist failed.')"
   ]
  },
  {
   "cell_type": "markdown",
   "metadata": {},
   "source": [
    "### Define a cost function for the maximization of the power absorbed by the PYRESISTOR"
   ]
  },
  {
   "cell_type": "code",
   "execution_count": null,
   "metadata": {},
   "outputs": [],
   "source": [
    "def cost(R):\n",
    "    cost_id = str(int(np.random.uniform() * 1e6))\n",
    "    pan.alter('Al_' + cost_id, 'resistance', R, libs, instance='I1', invalidate='no', annotate=4)\n",
    "    V = pan.DC('Dc_' + cost_id, ['y'], libs, print='yes')\n",
    "    return -V[0][0] ** 2 / R"
   ]
  },
  {
   "cell_type": "markdown",
   "metadata": {},
   "source": [
    "### Optimize the resistance value\n",
    "The n-port modelling the linear resistor is in series with the <tt>R1</tt> resistor: therefore, it will absorb maximum power when its resistance is the same as that of <tt>R1</tt>."
   ]
  },
  {
   "cell_type": "code",
   "execution_count": null,
   "metadata": {},
   "outputs": [],
   "source": [
    "Ropt, _, _, n_eval = fminbound(cost, 0, 1000, full_output=True)"
   ]
  },
  {
   "cell_type": "markdown",
   "metadata": {},
   "source": [
    "### Print the results"
   ]
  },
  {
   "cell_type": "code",
   "execution_count": null,
   "metadata": {},
   "outputs": [],
   "source": [
    "print('   Optimal value of resistance: {:.2f} Ohm.'.format(Ropt, 2*R0))\n",
    "print('Number of function evaluations: {}.'.format(n_eval))"
   ]
  },
  {
   "cell_type": "markdown",
   "metadata": {},
   "source": [
    "We can easily verify that the obtained value of resistance is the correct one by performing a DC sweep analysis and computing the value of absorbed power for each value of resistance:"
   ]
  },
  {
   "cell_type": "code",
   "execution_count": null,
   "metadata": {},
   "outputs": [],
   "source": [
    "R = np.linspace(R0 / 10, 10 * R0, 100)\n",
    "V = pan.DC('Dcsweep', ['y'], libs, start=R[0], stop=R[-1], step=np.diff(R)[0], instance='I1', param='resistance')"
   ]
  },
  {
   "cell_type": "markdown",
   "metadata": {},
   "source": [
    "### Plot the results"
   ]
  },
  {
   "cell_type": "code",
   "execution_count": null,
   "metadata": {},
   "outputs": [],
   "source": [
    "fig,ax = plt.subplots(1, 1, figsize=(6,4))\n",
    "ax.plot(R, V[0]**2 / R, 'k')\n",
    "ax.plot(Ropt + np.zeros(2), plt.ylim(), 'r--', label='Optimal value')\n",
    "ax.set_xlabel('Resistance [Ω]')\n",
    "ax.set_ylabel('Power [W]')\n",
    "ax.legend(loc='upper right')\n",
    "ax.axis('tight')\n",
    "fig.tight_layout()\n",
    "for pos in 'top','right':\n",
    "    ax.spines[pos].set_visible(False)"
   ]
  }
 ],
 "metadata": {
  "kernelspec": {
   "display_name": "Python 3",
   "language": "python",
   "name": "python3"
  },
  "language_info": {
   "codemirror_mode": {
    "name": "ipython",
    "version": 3
   },
   "file_extension": ".py",
   "mimetype": "text/x-python",
   "name": "python",
   "nbconvert_exporter": "python",
   "pygments_lexer": "ipython3",
   "version": "3.7.3"
  }
 },
 "nbformat": 4,
 "nbformat_minor": 4
}
