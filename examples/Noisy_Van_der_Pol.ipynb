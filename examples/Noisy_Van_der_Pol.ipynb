{
 "cells": [
  {
   "cell_type": "markdown",
   "metadata": {},
   "source": [
    "## How to access a Python variable in PAN"
   ]
  },
  {
   "cell_type": "code",
   "execution_count": null,
   "metadata": {},
   "outputs": [],
   "source": [
    "import os\n",
    "import pypan.ui as pan\n",
    "from pypan.utils import load_vars\n",
    "import numpy as np\n",
    "import matplotlib.pyplot as plt\n",
    "%matplotlib inline"
   ]
  },
  {
   "cell_type": "markdown",
   "metadata": {},
   "source": [
    "The purpose of this notebook is to illustrate how a Python variable can be used in a PAN netlist.\n",
    "\n",
    "As an example, we will use the Van der Pol oscillator: for a detailed description of the model, see the [Van der Pol notebook](Van_der_Pol.ipynb).\n",
    "\n",
    "The following netlist defines the Van der Pol circuit in PAN. Notice the presence of the <tt>port</tt> device, whose parameter <tt>noisesamples</tt> specifies the name of the variable containing the noisy samples. The content of this variable will be explained in the following. "
   ]
  },
  {
   "cell_type": "code",
   "execution_count": null,
   "metadata": {},
   "outputs": [],
   "source": [
    "netlist = \"\"\"\\\n",
    "ground electrical gnd\n",
    "\n",
    "parameters G=1/10k\n",
    "\n",
    "; Circuit\n",
    "\n",
    "p1    x   gnd  x    gnd  poly n0=0 n1=-1 n2=0 n3=1 d0=1\n",
    "c1    x   gnd  capacitor c=1 icon=200m\n",
    "rx    x   gnd  RES  r=1/G\n",
    "l1    x   gnd  inductor  l=1\n",
    "\n",
    "ns    x   gns  port noisesamples=\"noisy_py\"\n",
    "\n",
    "model RES resistor kf=0 af=1\n",
    "\"\"\""
   ]
  },
  {
   "cell_type": "markdown",
   "metadata": {},
   "source": [
    "#### Write the above netlist to file"
   ]
  },
  {
   "cell_type": "code",
   "execution_count": null,
   "metadata": {},
   "outputs": [],
   "source": [
    "netlist_file = 'noisy_vanderpol.pan'\n",
    "with open(netlist_file, 'w') as fid:\n",
    "    fid.write(netlist)"
   ]
  },
  {
   "cell_type": "markdown",
   "metadata": {},
   "source": [
    "### Load the netlist with the description of the circuit\n",
    "No analysis is performed at this point, since none is defined in the netlist."
   ]
  },
  {
   "cell_type": "code",
   "execution_count": null,
   "metadata": {},
   "outputs": [],
   "source": [
    "ok,libs = pan.load_netlist(netlist_file)\n",
    "if not ok:\n",
    "    print('load_netlist failed.')"
   ]
  },
  {
   "cell_type": "markdown",
   "metadata": {},
   "source": [
    "### Build the variable to be used in PAN\n",
    "The noise samples need to be stored in a matrix with two columns, representing time instants and noise values, respectively. The number of samples needs to be sufficient to cover the whole duration of the simulation: PAN will use the same noise value for those time instants that fall in between the ones provided by the user.\n",
    "\n",
    "The samples matrix can be implemented in two ways:\n",
    "1. an N-by-2 NumPy array, where N is the number of samples.\n",
    "1. a two-element list, where each element of the list is itself another list with N elements.\n",
    "\n",
    "The variable <tt>use_numpy</tt> below allows choosing between these two options."
   ]
  },
  {
   "cell_type": "code",
   "execution_count": null,
   "metadata": {},
   "outputs": [],
   "source": [
    "use_numpy = True\n",
    "dt = 0.1\n",
    "tstop = 100\n",
    "if use_numpy:\n",
    "    t = np.r_[0 : tstop + 2*dt : dt]\n",
    "    noisy_py = np.zeros((len(t), 2))\n",
    "    noisy_py[:,0] = t\n",
    "    noisy_py[:,1] = np.random.normal(0, 10, size=(len(t),))\n",
    "else:\n",
    "    t = [i * dt for i in range(int(tstop/dt) + 1)]\n",
    "    t.append(t[-1] + dt)\n",
    "    rnd = [np.random.uniform() for _ in range(len(t))]\n",
    "    noisy_py = [t, rnd]"
   ]
  },
  {
   "cell_type": "markdown",
   "metadata": {},
   "source": [
    "### Run a transient analysis\n",
    "\n",
    "Notice that the <tt>noiseinj=2</tt> option to the tran analysis specifies that noise is injected only in the (nonlinear) circuit and therefore affects exclusively the large signal solution. <br/>\n",
    "Alternatively, one could use <tt>noiseinj=1</tt> to indicate that noise should be injected in the variational part of the circuit."
   ]
  },
  {
   "cell_type": "code",
   "execution_count": null,
   "metadata": {},
   "outputs": [],
   "source": [
    "tran_name = 'Tr'\n",
    "mem_vars = ['time', 'x', 'l1:i']\n",
    "time,vc,il = pan.tran(tran_name, tstop, mem_vars, libs, uic=1, noisefmax=10, noiseinj=2)"
   ]
  },
  {
   "cell_type": "markdown",
   "metadata": {},
   "source": [
    "### Load the same variables from disk\n",
    "This is an alternative to calling the <tt>tran</tt> method with the <tt>mem_vars</tt> argument. <br/>\n",
    "The same is valid for all the other methods in <tt>pypan</tt> that accept a <tt>mem_vars</tt> argument."
   ]
  },
  {
   "cell_type": "code",
   "execution_count": null,
   "metadata": {},
   "outputs": [],
   "source": [
    "data = load_vars(os.path.splitext(netlist_file)[0] + '.raw/' + tran_name, mem_vars)"
   ]
  },
  {
   "cell_type": "markdown",
   "metadata": {},
   "source": [
    "### Plot the results"
   ]
  },
  {
   "cell_type": "code",
   "execution_count": null,
   "metadata": {},
   "outputs": [],
   "source": [
    "fig,(ax1,ax2) = plt.subplots(1, 2, sharex=True, figsize=(12,5))\n",
    "    \n",
    "ax1.plot(data['time'], data['x'], 'r', linewidth=1, label='From disk')\n",
    "ax1.plot(time, vc, 'k', linewidth=1, label='From memory')\n",
    "ax1.set_xlabel('Time [s]')\n",
    "ax1.set_ylabel(r'$v_C$ [V]')\n",
    "ax1.legend(loc='best')\n",
    "    \n",
    "ax2.plot(data['time'], data['l1:i'], 'r', linewidth=1, label='From disk')\n",
    "ax2.plot(time, il, 'k', linewidth=1, label='From memory')\n",
    "ax2.set_xlabel('Time [s]')\n",
    "ax2.set_ylabel(r'$i_L$ [A]');"
   ]
  }
 ],
 "metadata": {
  "kernelspec": {
   "display_name": "Python 3",
   "language": "python",
   "name": "python3"
  },
  "language_info": {
   "codemirror_mode": {
    "name": "ipython",
    "version": 3
   },
   "file_extension": ".py",
   "mimetype": "text/x-python",
   "name": "python",
   "nbconvert_exporter": "python",
   "pygments_lexer": "ipython3",
   "version": "3.7.3"
  }
 },
 "nbformat": 4,
 "nbformat_minor": 4
}
