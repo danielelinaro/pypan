{
 "cells": [
  {
   "cell_type": "code",
   "execution_count": null,
   "id": "bdf03227",
   "metadata": {},
   "outputs": [],
   "source": [
    "import pypan.ui as pan\n",
    "import numpy as np\n",
    "import matplotlib.pyplot as plt\n",
    "import pickle\n",
    "%matplotlib inline"
   ]
  },
  {
   "cell_type": "markdown",
   "id": "ca7610f4",
   "metadata": {},
   "source": [
    "A function for printing the results of a load flow analysis"
   ]
  },
  {
   "cell_type": "code",
   "execution_count": null,
   "id": "be9b90ad",
   "metadata": {},
   "outputs": [],
   "source": [
    "def print_load_flow(results):\n",
    "    print('\\n===== Generators =====')\n",
    "    for name,data in results['generators'].items():\n",
    "        if name not in ('Ptot','Qtot'):\n",
    "            print(f'{name}: P = {data[\"P\"]:7.2f} MW, Q = {data[\"Q\"]:6.2f} MVAR, ' + \n",
    "                  f'I = {data[\"I\"]:6.3f} kA, V = {data[\"V\"]:6.3f} kV.')\n",
    "    print(f'Total P = {results[\"generators\"][\"Ptot\"]:6.2f} MW, ' + \n",
    "          f'total Q = {results[\"generators\"][\"Qtot\"]:6.2f} MVAR')\n",
    "\n",
    "    print('\\n======= Buses ========')\n",
    "    for name,data in results['buses'].items():\n",
    "        print(f'{name}: voltage = {data[\"voltage\"]:5.3f} pu, V = {data[\"Vl\"]:7.3f} kV.')\n",
    "        \n",
    "    print('\\n======= Loads ========')\n",
    "    for name,data in results['loads'].items():\n",
    "        if name not in ('Ptot','Qtot'):\n",
    "            print(f'{name}: P = {data[\"P\"]:7.2f} MW, Q = {data[\"Q\"]:6.2f} MVAR, ' + \n",
    "                  f'I = {data[\"I\"]:6.3f} kA, V = {data[\"V\"]:8.3f} kV.')\n",
    "    print(f'Total P = {results[\"loads\"][\"Ptot\"]:6.2f} MW, ' +\n",
    "          f'total Q = {results[\"loads\"][\"Qtot\"]:6.2f} MVAR')"
   ]
  },
  {
   "cell_type": "markdown",
   "id": "4a52555e",
   "metadata": {},
   "source": [
    "#### Some data about the loads and the voltage ratings of the buses"
   ]
  },
  {
   "cell_type": "code",
   "execution_count": null,
   "id": "86bd3a56",
   "metadata": {},
   "outputs": [],
   "source": [
    "LOADS = {\n",
    "    'A': {'P': 125., 'Q': 50.},\n",
    "    'B': {'P':  90., 'Q': 30.},\n",
    "    'C': {'P': 100., 'Q': 35.}\n",
    "}\n",
    "\n",
    "VRATING = {\n",
    "    'bus1': 16.5,\n",
    "    'bus2': 18,\n",
    "    'bus3': 13.8,\n",
    "}\n",
    "for bus in range(4,10):\n",
    "    VRATING[f'bus{bus}'] = 230"
   ]
  },
  {
   "cell_type": "markdown",
   "id": "b083201e",
   "metadata": {},
   "source": [
    "#### Load the load flow computed by PowerFactory"
   ]
  },
  {
   "cell_type": "code",
   "execution_count": null,
   "id": "5f7789a5",
   "metadata": {},
   "outputs": [],
   "source": [
    "LF = {'PowerFactory': pickle.load(open('WSCC_9_bus_load_flow_PowerFactory.pkl','rb'))}"
   ]
  },
  {
   "cell_type": "markdown",
   "id": "16ddbeea",
   "metadata": {},
   "source": [
    "#### Load the WSCC netlist in pan"
   ]
  },
  {
   "cell_type": "code",
   "execution_count": null,
   "id": "0375f719",
   "metadata": {},
   "outputs": [],
   "source": [
    "netlist_file = 'wscc.pan'\n",
    "ok,libs = pan.load_netlist(netlist_file)\n",
    "if not ok:\n",
    "    raise Exception('load_netlist failed.')"
   ]
  },
  {
   "cell_type": "markdown",
   "id": "c899c259",
   "metadata": {},
   "source": [
    "#### Define which variables to save in memory"
   ]
  },
  {
   "cell_type": "code",
   "execution_count": null,
   "id": "bc2d96b0",
   "metadata": {},
   "outputs": [],
   "source": [
    "mem_vars = []\n",
    "for bus in range(1, 10):\n",
    "    if bus < 4:\n",
    "        mem_vars.append(f'g{bus}:d')\n",
    "        mem_vars.append(f'g{bus}:q')\n",
    "    else:\n",
    "        mem_vars.append(f'bus{bus}:d')\n",
    "        mem_vars.append(f'bus{bus}:q')\n",
    "for gen in range(1, 4):\n",
    "    mem_vars.append(f'G{gen}:id')\n",
    "    mem_vars.append(f'G{gen}:iq')"
   ]
  },
  {
   "cell_type": "markdown",
   "id": "2bcfb922",
   "metadata": {},
   "source": [
    "#### Run the load flow"
   ]
  },
  {
   "cell_type": "code",
   "execution_count": null,
   "id": "a5a532cf",
   "metadata": {},
   "outputs": [],
   "source": [
    "data = pan.DC('Lf', mem_vars=mem_vars, libs=libs, nettype=1, print='yes')\n",
    "lf = {v: data[i][0] for i,v in enumerate(mem_vars)}\n",
    "for bus in (1,2,3):\n",
    "    for x in 'dq':\n",
    "        lf[f'G{bus}:{x}'] = lf.pop(f'g{bus}:{x}')\n",
    "        lf[f'bus{bus}:{x}'] = lf[f'G{bus}:{x}']"
   ]
  },
  {
   "cell_type": "markdown",
   "id": "285cd2ab",
   "metadata": {},
   "source": [
    "Convert the data returned by pan to the same format as saved in PowerFactory"
   ]
  },
  {
   "cell_type": "code",
   "execution_count": null,
   "id": "a2b7a894",
   "metadata": {},
   "outputs": [],
   "source": [
    "LF['pan'] = {key: {} for key in ('generators','buses','loads')}\n",
    "\n",
    "Ptot, Qtot = 0, 0\n",
    "for gen in range(1,4):\n",
    "    key = f'G{gen}:'\n",
    "    V = lf[key + 'd'] + 1j * lf[key + 'q']\n",
    "    I = lf[key + 'id'] + 1j * lf[key + 'iq']\n",
    "    S = V * I.conj()\n",
    "    P = -S.real * 1e-6\n",
    "    Q = -S.imag * 1e-6\n",
    "    LF['pan']['generators'][f'G{gen}'] = {\n",
    "        'P': P,\n",
    "        'Q': Q,\n",
    "        'I': abs(I) * 1e-3 / np.sqrt(3),\n",
    "        'V': abs(V) * 1e-3 / np.sqrt(3),\n",
    "        'Vl': abs(V) * 1e-3\n",
    "    }\n",
    "    Ptot += P\n",
    "    Qtot += Q\n",
    "LF['pan']['generators']['Ptot'], LF['pan']['generators']['Qtot'] = Ptot, Qtot\n",
    "\n",
    "for bus in range(1,10):\n",
    "    key = f'bus{bus}:'\n",
    "    V = lf[key + 'd'] + 1j * lf[key + 'q']\n",
    "    Vl = abs(V) * 1e-3\n",
    "    LF['pan']['buses'][f'Bus {bus}'] = {\n",
    "        'voltage': Vl / VRATING[f'bus{bus}'],\n",
    "        'V': Vl / np.sqrt(3),\n",
    "        'Vl': Vl\n",
    "    }\n",
    "\n",
    "for bus,load in zip((5,6,8),'ABC'):\n",
    "    key = f'bus{bus}:'\n",
    "    V = lf[key + 'd'] + 1j * lf[key + 'q']\n",
    "    Vl = abs(V) * 1e-3\n",
    "    LF['pan']['loads'][f'Load {load}'] = {\n",
    "        'P': LOADS[load]['P'],\n",
    "        'Q': LOADS[load]['Q'],\n",
    "        'V': Vl / np.sqrt(3),\n",
    "        'Vl': Vl\n",
    "    }\n",
    "    load = LF['pan']['loads'][f'Load {load}']\n",
    "    load['I'] = np.sqrt(load['P'] ** 2 + load['Q'] ** 2) / load['Vl'] / np.sqrt(3)\n",
    "LF['pan']['loads']['Ptot'] = np.sum([load['P'] for load in LOADS.values()])\n",
    "LF['pan']['loads']['Qtot'] = np.sum([load['Q'] for load in LOADS.values()])"
   ]
  },
  {
   "cell_type": "markdown",
   "id": "899de3d0",
   "metadata": {},
   "source": [
    "#### The load flow computed by pan"
   ]
  },
  {
   "cell_type": "code",
   "execution_count": null,
   "id": "d0f8516a",
   "metadata": {},
   "outputs": [],
   "source": [
    "print_load_flow(LF['pan'])"
   ]
  },
  {
   "cell_type": "markdown",
   "id": "62c714cb",
   "metadata": {},
   "source": [
    "#### The load flow computed by PowerFactory"
   ]
  },
  {
   "cell_type": "code",
   "execution_count": null,
   "id": "c668989d",
   "metadata": {},
   "outputs": [],
   "source": [
    "print_load_flow(LF['PowerFactory'])"
   ]
  }
 ],
 "metadata": {
  "kernelspec": {
   "display_name": "Python 3",
   "language": "python",
   "name": "python3"
  },
  "language_info": {
   "codemirror_mode": {
    "name": "ipython",
    "version": 3
   },
   "file_extension": ".py",
   "mimetype": "text/x-python",
   "name": "python",
   "nbconvert_exporter": "python",
   "pygments_lexer": "ipython3",
   "version": "3.7.3"
  }
 },
 "nbformat": 4,
 "nbformat_minor": 5
}
