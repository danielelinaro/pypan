{
 "cells": [
  {
   "cell_type": "markdown",
   "id": "c3d47e93",
   "metadata": {},
   "source": [
    "## Load flow computation in the IEEE 9-bus test system"
   ]
  },
  {
   "cell_type": "markdown",
   "id": "70e991a1",
   "metadata": {},
   "source": [
    "The purpose of this notebook is to show how pan can be used, via its Python interface, to compute the load flow of a power network\n",
    "\n",
    "The example network used is the IEEE 9-bus test system shown below:\n",
    "\n",
    "<a href=\"https://www.researchgate.net/figure/Diagram-of-the-IEEE-9-bus-test-system_fig2_303381482\"><img src=\"https://www.researchgate.net/profile/Yue-Song-4/publication/303381482/figure/fig2/AS:368524460609538@1464874486665/Diagram-of-the-IEEE-9-bus-test-system.png\" alt=\"Diagram of the IEEE 9-bus test system.\"/></a>\n",
    "\n",
    "This network contains three generators, three loads and nine buses."
   ]
  },
  {
   "cell_type": "code",
   "execution_count": null,
   "id": "bdf03227",
   "metadata": {},
   "outputs": [],
   "source": [
    "import pypan.ui as pan\n",
    "import numpy as np\n",
    "import matplotlib.pyplot as plt\n",
    "plt.rcParams['font.family'] = 'serif'\n",
    "plt.rcParams['font.serif'] = ['Times New Roman']\n",
    "import pickle\n",
    "%matplotlib inline"
   ]
  },
  {
   "cell_type": "markdown",
   "id": "4a52555e",
   "metadata": {},
   "source": [
    "#### Default active and reacitve powers of the loads and voltage ratings of the buses"
   ]
  },
  {
   "cell_type": "code",
   "execution_count": null,
   "id": "86bd3a56",
   "metadata": {},
   "outputs": [],
   "source": [
    "LOADS = {\n",
    "    'A': {'P': 125., 'Q': 50.},\n",
    "    'B': {'P':  90., 'Q': 30.},\n",
    "    'C': {'P': 100., 'Q': 35.}\n",
    "}\n",
    "\n",
    "VRATING = {\n",
    "    'bus1': 16.5,\n",
    "    'bus2': 18,\n",
    "    'bus3': 13.8,\n",
    "}\n",
    "for bus in range(4,10):\n",
    "    VRATING[f'bus{bus}'] = 230"
   ]
  },
  {
   "cell_type": "markdown",
   "id": "5e34d5d9",
   "metadata": {},
   "source": [
    "This function converts the data returned by pan to the same format as saved in PowerFactory, for ease of comparison."
   ]
  },
  {
   "cell_type": "code",
   "execution_count": null,
   "id": "a5a532cf",
   "metadata": {},
   "outputs": [],
   "source": [
    "def convert_load_flow_data(data, mem_vars):\n",
    "    lf = {v: data[i][0] for i,v in enumerate(mem_vars)}\n",
    "    for bus in (1,2,3):\n",
    "        for x in 'dq':\n",
    "            lf[f'G{bus}:{x}'] = lf.pop(f'g{bus}:{x}')\n",
    "            lf[f'bus{bus}:{x}'] = lf[f'G{bus}:{x}']\n",
    "            \n",
    "    solution = {key: {} for key in ('generators','buses','loads')}\n",
    "\n",
    "    Ptot, Qtot = 0, 0\n",
    "    for gen in range(1,4):\n",
    "        key = f'G{gen}:'\n",
    "        V = lf[key + 'd'] + 1j * lf[key + 'q']\n",
    "        I = lf[key + 'id'] + 1j * lf[key + 'iq']\n",
    "        S = V * I.conj()\n",
    "        P = -S.real * 1e-6\n",
    "        Q = -S.imag * 1e-6\n",
    "        solution['generators'][f'G{gen}'] = {\n",
    "            'P': P,\n",
    "            'Q': Q,\n",
    "            'I': abs(I) * 1e-3 / np.sqrt(3),\n",
    "            'V': abs(V) * 1e-3 / np.sqrt(3),\n",
    "            'Vl': abs(V) * 1e-3\n",
    "        }\n",
    "        Ptot += P\n",
    "        Qtot += Q\n",
    "    solution['generators']['Ptot'], solution['generators']['Qtot'] = Ptot, Qtot\n",
    "\n",
    "    for bus in range(1,10):\n",
    "        key = f'bus{bus}:'\n",
    "        V = lf[key + 'd'] + 1j * lf[key + 'q']\n",
    "        Vl = abs(V) * 1e-3\n",
    "        solution['buses'][f'Bus {bus}'] = {\n",
    "            'voltage': Vl / VRATING[f'bus{bus}'],\n",
    "            'V': Vl / np.sqrt(3),\n",
    "            'Vl': Vl\n",
    "        }\n",
    "\n",
    "    for bus,load in zip((5,6,8),'ABC'):\n",
    "        key = f'bus{bus}:'\n",
    "        V = lf[key + 'd'] + 1j * lf[key + 'q']\n",
    "        Vl = abs(V) * 1e-3\n",
    "        solution['loads'][f'Load {load}'] = {\n",
    "            'P': LOADS[load]['P'],\n",
    "            'Q': LOADS[load]['Q'],\n",
    "            'V': Vl / np.sqrt(3),\n",
    "            'Vl': Vl\n",
    "        }\n",
    "        load = solution['loads'][f'Load {load}']\n",
    "        load['I'] = np.sqrt(load['P'] ** 2 + load['Q'] ** 2) / load['Vl'] / np.sqrt(3)\n",
    "    solution['loads']['Ptot'] = np.sum([load['P'] for load in LOADS.values()])\n",
    "    solution['loads']['Qtot'] = np.sum([load['Q'] for load in LOADS.values()])\n",
    "    \n",
    "    return solution"
   ]
  },
  {
   "cell_type": "markdown",
   "id": "ca7610f4",
   "metadata": {},
   "source": [
    "This function prints the results of a load flow analysis"
   ]
  },
  {
   "cell_type": "code",
   "execution_count": null,
   "id": "be9b90ad",
   "metadata": {},
   "outputs": [],
   "source": [
    "def print_load_flow(results):\n",
    "    print('\\n===== Generators =====')\n",
    "    for name,data in results['generators'].items():\n",
    "        if name not in ('Ptot','Qtot'):\n",
    "            print(f'{name}: P = {data[\"P\"]:7.2f} MW, Q = {data[\"Q\"]:6.2f} MVAR, ' + \n",
    "                  f'I = {data[\"I\"]:6.3f} kA, V = {data[\"V\"]:6.3f} kV.')\n",
    "    print(f'Total P = {results[\"generators\"][\"Ptot\"]:6.2f} MW, ' + \n",
    "          f'total Q = {results[\"generators\"][\"Qtot\"]:6.2f} MVAR')\n",
    "\n",
    "    print('\\n======= Buses ========')\n",
    "    for name,data in results['buses'].items():\n",
    "        print(f'{name}: voltage = {data[\"voltage\"]:5.3f} pu, V = {data[\"Vl\"]:7.3f} kV.')\n",
    "        \n",
    "    print('\\n======= Loads ========')\n",
    "    for name,data in results['loads'].items():\n",
    "        if name not in ('Ptot','Qtot'):\n",
    "            print(f'{name}: P = {data[\"P\"]:7.2f} MW, Q = {data[\"Q\"]:6.2f} MVAR, ' + \n",
    "                  f'I = {data[\"I\"]:6.3f} kA, V = {data[\"V\"]:8.3f} kV.')\n",
    "    print(f'Total P = {results[\"loads\"][\"Ptot\"]:6.2f} MW, ' +\n",
    "          f'total Q = {results[\"loads\"][\"Qtot\"]:6.2f} MVAR')"
   ]
  },
  {
   "cell_type": "markdown",
   "id": "16ddbeea",
   "metadata": {},
   "source": [
    "#### Load the netlist in pan\n",
    "\n",
    "The netlist is stored in the [wscc.pan](wscc.pan) file: it is possible to overload the network by varying the parameter `LAMBDA` in the interval [0,1]: this has the effect of increasing by `LAMBDA`% both the power generated by two generators (the slack generator is untouched) and the power (active and reactive) absorbed by the three loads.\n",
    "\n",
    "Notice that at this point no analysis or simulation is performed."
   ]
  },
  {
   "cell_type": "code",
   "execution_count": null,
   "id": "0375f719",
   "metadata": {},
   "outputs": [],
   "source": [
    "netlist_file = 'wscc.pan'\n",
    "ok,libs = pan.load_netlist(netlist_file)\n",
    "if not ok:\n",
    "    raise Exception('load_netlist failed.')"
   ]
  },
  {
   "cell_type": "markdown",
   "id": "c899c259",
   "metadata": {},
   "source": [
    "#### Define which variables to save in memory\n",
    "In this way we won't have to load the data from file. The voltage at each node in a netlist can be saved in memory and accessed via Python's `pan.ui` functions."
   ]
  },
  {
   "cell_type": "code",
   "execution_count": null,
   "id": "bc2d96b0",
   "metadata": {},
   "outputs": [],
   "source": [
    "mem_vars = []\n",
    "for bus in range(1, 10):\n",
    "    if bus < 4:\n",
    "        mem_vars.append(f'g{bus}:d')\n",
    "        mem_vars.append(f'g{bus}:q')\n",
    "    else:\n",
    "        mem_vars.append(f'bus{bus}:d')\n",
    "        mem_vars.append(f'bus{bus}:q')\n",
    "for gen in range(1, 4):\n",
    "    mem_vars.append(f'G{gen}:id')\n",
    "    mem_vars.append(f'G{gen}:iq')"
   ]
  },
  {
   "cell_type": "markdown",
   "id": "2bcfb922",
   "metadata": {},
   "source": [
    "#### Run the load flow\n",
    "\n",
    "Here we run a batch of load flow analyses, changing the parameter `LAMBDA` with the `pan.alter` command. In order for this to work, the `LAMBDA` parameter must be tagged as \"run-time\" in the netlist. This is accomplished by the line\n",
    "\n",
    "`Al_dummy_lambda alter param=\"LAMBDA\" rt=yes`\n",
    "\n",
    "in the [wscc.pan](wscc.pan) file."
   ]
  },
  {
   "cell_type": "code",
   "execution_count": null,
   "id": "08826c91",
   "metadata": {},
   "outputs": [],
   "source": [
    "LAMBDA = np.r_[0 : 31] / 100\n",
    "LF = []\n",
    "for l in LAMBDA:\n",
    "    pan.alter('Allam', 'LAMBDA', l, libs, annotate=1)\n",
    "    data = pan.DC('Lf', mem_vars=mem_vars, libs=libs, nettype=1, print='yes')\n",
    "    LOADS = {\n",
    "        'A': {'P': 125. * (1+l), 'Q': 50. * (1+l)},\n",
    "        'B': {'P':  90. * (1+l), 'Q': 30. * (1+l)},\n",
    "        'C': {'P': 100. * (1+l), 'Q': 35. * (1+l)}\n",
    "    }\n",
    "    LF.append(convert_load_flow_data(data, mem_vars))"
   ]
  },
  {
   "cell_type": "markdown",
   "id": "6a3f30de",
   "metadata": {},
   "source": [
    "#### Load the results obtained with PowerFactory, if the file is available"
   ]
  },
  {
   "cell_type": "code",
   "execution_count": null,
   "id": "d2519d3a",
   "metadata": {},
   "outputs": [],
   "source": [
    "try:\n",
    "    LF_PowerFactory = pickle.load(open('WSCC_9_bus_load_flow_PowerFactory_overload.pkl', 'rb'))\n",
    "    print('Successfully loaded the file with PowerFactory results.')\n",
    "except:\n",
    "    LF_PowerFactory = None\n",
    "    print('Cannot find the file with PowerFactory results.')"
   ]
  },
  {
   "cell_type": "markdown",
   "id": "7d68962c",
   "metadata": {},
   "source": [
    "#### Plot the results\n",
    "We plot active and reactive power of the slack generator as a function of the overload parameter `LAMBDA` and compare the results obtained with pan with those obtained with PowerFactory."
   ]
  },
  {
   "cell_type": "code",
   "execution_count": null,
   "id": "26d4e0c0",
   "metadata": {},
   "outputs": [],
   "source": [
    "P = np.array([lf['generators']['G1']['P'] for lf in LF])\n",
    "Q = np.array([lf['generators']['G1']['Q'] for lf in LF])\n",
    "if LF_PowerFactory is not None:\n",
    "    LAMBDA_PowerFactory = np.array(list(LF_PowerFactory.keys()))\n",
    "    P_PowerFactory = np.array([lf['generators']['G1']['P'] for lf in LF_PowerFactory.values()])\n",
    "    Q_PowerFactory = np.array([lf['generators']['G1']['Q'] for lf in LF_PowerFactory.values()])\n",
    "\n",
    "fig = plt.figure(figsize=(8.5/2.54, 5/2.54))\n",
    "ax = plt.axes([0.15, 0.2, 0.8, 0.75])\n",
    "if LF_PowerFactory is not None:\n",
    "    ax.plot(LAMBDA_PowerFactory[0::10], P_PowerFactory[0::10], 'ks', markersize=8)\n",
    "    ax.plot(LAMBDA_PowerFactory[0::10], Q_PowerFactory[0::10], 'rs', markersize=8)\n",
    "ax.plot(LAMBDA, P, 'ko-', label='P', lw=1, markerfacecolor='w', markeredgewidth=1, markersize=4)\n",
    "ax.plot(LAMBDA, Q, 'ro-', label='Q', lw=1, markerfacecolor='w', markeredgewidth=1, markersize=4)\n",
    "for side in 'right','top':\n",
    "    ax.spines[side].set_visible(False)\n",
    "ax.set_xlabel(r'$\\lambda$', fontsize=8)\n",
    "ax.set_ylabel('Power [MW]', fontsize=8)\n",
    "ax.legend(loc='lower right')\n",
    "ax.grid(which='major', axis='y', linewidth=0.5, linestyle=':')\n",
    "ax.set_ylim([0,100])\n",
    "ax.tick_params(axis='x', labelsize=8)\n",
    "ax.tick_params(axis='y', labelsize=8)\n",
    "fig.savefig('WSCC_load_flow.pdf')"
   ]
  },
  {
   "cell_type": "markdown",
   "id": "7d439d5f",
   "metadata": {},
   "source": [
    "#### Save the results to disk"
   ]
  },
  {
   "cell_type": "code",
   "execution_count": null,
   "id": "c1e4d30a",
   "metadata": {},
   "outputs": [],
   "source": [
    "data = {'LAMBDA': LAMBDA, 'P': P, 'Q': Q}\n",
    "if LF_PowerFactory is not None:\n",
    "    data['LAMBDA_PowerFactory'] = LAMBDA_PowerFactory\n",
    "    data['P_PowerFactory'] = P_PowerFactory\n",
    "    data['Q_PowerFactory'] = Q_PowerFactory\n",
    "pickle.dump(data, open('WSCC_load_flow.pkl', 'wb'))"
   ]
  }
 ],
 "metadata": {
  "kernelspec": {
   "display_name": "Python 3",
   "language": "python",
   "name": "python3"
  },
  "language_info": {
   "codemirror_mode": {
    "name": "ipython",
    "version": 3
   },
   "file_extension": ".py",
   "mimetype": "text/x-python",
   "name": "python",
   "nbconvert_exporter": "python",
   "pygments_lexer": "ipython3",
   "version": "3.7.3"
  }
 },
 "nbformat": 4,
 "nbformat_minor": 5
}
