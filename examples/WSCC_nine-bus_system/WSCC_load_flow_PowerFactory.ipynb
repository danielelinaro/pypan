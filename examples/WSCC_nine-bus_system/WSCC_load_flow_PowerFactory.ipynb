{
 "cells": [
  {
   "cell_type": "code",
   "execution_count": null,
   "id": "66edd5da",
   "metadata": {},
   "outputs": [],
   "source": [
    "import os\n",
    "import sys\n",
    "import pickle\n",
    "import numpy as np\n",
    "from numpy.random import RandomState, SeedSequence, MT19937\n",
    "import matplotlib.pyplot as plt\n",
    "\n",
    "powerfactory_path = r'C:\\Program Files\\DIgSILENT\\PowerFactory 2020 SP4\\Python\\3.8'\n",
    "if powerfactory_path not in sys.path:\n",
    "    sys.path.append(powerfactory_path)\n",
    "import powerfactory as pf"
   ]
  },
  {
   "cell_type": "code",
   "execution_count": null,
   "id": "1b5714f5",
   "metadata": {},
   "outputs": [],
   "source": [
    "app = pf.GetApplication()\n",
    "if app is None:\n",
    "    raise Exception('Cannot get PowerFactory application')\n",
    "else:\n",
    "    print('Successfully obtained PowerFactory application.')"
   ]
  },
  {
   "cell_type": "code",
   "execution_count": null,
   "id": "e26c6cb3",
   "metadata": {},
   "outputs": [],
   "source": [
    "project_name = '\\\\Terna_Inerzia\\\\WSCC'\n",
    "err = app.ActivateProject(project_name)\n",
    "if err:\n",
    "    raise Exception(f'Cannot activate project {project_name}')\n",
    "print(f'Successfully activated project {project_name}.')"
   ]
  },
  {
   "cell_type": "code",
   "execution_count": null,
   "id": "9b1fb135",
   "metadata": {},
   "outputs": [],
   "source": [
    "project = app.GetActiveProject()\n",
    "if project is None:\n",
    "    raise Exception('Cannot get active project')\n",
    "print('Successfully obtained active project.')"
   ]
  },
  {
   "cell_type": "code",
   "execution_count": null,
   "id": "358fdad9",
   "metadata": {},
   "outputs": [],
   "source": [
    "project_folders = {}\n",
    "for folder_name in ('study',):\n",
    "    project_folders[folder_name] = app.GetProjectFolder(folder_name)\n",
    "    if project_folders[folder_name] is None:\n",
    "        raise Exception(f'No folder \"{folder_name}\" present')\n",
    "    print(f'Successfully obtained folder \"{folder_name}\".')"
   ]
  },
  {
   "cell_type": "code",
   "execution_count": null,
   "id": "bfb6005b",
   "metadata": {},
   "outputs": [],
   "source": [
    "sort_fun = lambda x: x.loc_name\n",
    "generators = sorted(app.GetCalcRelevantObjects('*.ElmSym'), key=sort_fun)\n",
    "lines = sorted(app.GetCalcRelevantObjects('*.ElmLne'), key=sort_fun)\n",
    "buses = sorted(app.GetCalcRelevantObjects('*.ElmTerm'), key=sort_fun)\n",
    "loads = sorted(app.GetCalcRelevantObjects('*.ElmLod'), key=sort_fun)\n",
    "n_generators, n_lines, n_buses, n_loads = len(generators), len(lines), len(buses), len(loads)\n",
    "print(f'There are {n_generators} generators.')\n",
    "print(f'There are {n_lines} lines.')\n",
    "print(f'There are {n_buses} buses.')\n",
    "print(f'There are {n_loads} loads.')"
   ]
  },
  {
   "cell_type": "code",
   "execution_count": null,
   "id": "71e14238",
   "metadata": {},
   "outputs": [],
   "source": [
    "P = {}\n",
    "S = {}\n",
    "H = {}\n",
    "for generator in generators:\n",
    "    i = int(generator.loc_name[1:])\n",
    "    generator_type = generator.GetAttribute('typ_id')\n",
    "    P[i] = generator.GetAttribute('pgini')\n",
    "    S[i] = generator_type.GetAttribute('sgn')\n",
    "    H[i] = generator_type.GetAttribute('h')\n",
    "    print(f'{generator.loc_name}: P = {P[i]:4.0f} MW, S = {S[i]:5.0f} MVA, inertia = {H[i]:5.2f} s.')"
   ]
  },
  {
   "cell_type": "code",
   "execution_count": null,
   "id": "054c987f",
   "metadata": {},
   "outputs": [],
   "source": [
    "for line in lines:\n",
    "    line_type = line.GetAttribute('typ_id')\n",
    "    vrating = line_type.GetAttribute('uline')\n",
    "    print(f'{line.loc_name}: Vrating = {vrating:6.1f} kV.')"
   ]
  },
  {
   "cell_type": "code",
   "execution_count": null,
   "id": "52dc4919",
   "metadata": {},
   "outputs": [],
   "source": [
    "for bus in buses:\n",
    "    vrating = bus.GetAttribute('uknom')\n",
    "    print(f'{bus.loc_name}: Vrating = {vrating:6.1f} kV.')"
   ]
  },
  {
   "cell_type": "code",
   "execution_count": null,
   "id": "7f130ddf",
   "metadata": {},
   "outputs": [],
   "source": [
    "for load in loads:\n",
    "    plini = load.GetAttribute('plini')\n",
    "    qlini = load.GetAttribute('qlini')\n",
    "    print(f'{load.loc_name}: P = {plini:5.1f} MW, Q = {qlini:5.1f} MVAR.')"
   ]
  },
  {
   "cell_type": "markdown",
   "id": "110bd51a",
   "metadata": {},
   "source": [
    "## Load flow analysis"
   ]
  },
  {
   "cell_type": "code",
   "execution_count": null,
   "id": "b9ccde66",
   "metadata": {},
   "outputs": [],
   "source": [
    "def run_load_flow(project_folder, generators, loads, buses, study_case_name='01- Load Flow', verbose=False):\n",
    "    #\n",
    "    study_case = project_folder.GetContents(study_case_name)[0]\n",
    "    study_case.Activate()\n",
    "    if verbose: print(f'Successfully activated study case {study_case_name}.')\n",
    "    #\n",
    "    load_flow = app.GetFromStudyCase('ComLdf')\n",
    "    err = load_flow.Execute()\n",
    "    if err:\n",
    "        raise Exception(f'Cannot run load flow')\n",
    "    if verbose: print(f'Successfully run load flow.')\n",
    "    #\n",
    "    results = {key: {} for key in ('generators','buses','loads')}\n",
    "    \n",
    "    Ptot, Qtot = 0, 0\n",
    "    for gen in generators:\n",
    "        pq = [gen.GetAttribute(f'm:{c}sum:bus1') for c in 'PQ']\n",
    "        results['generators'][gen.loc_name] = {\n",
    "            'P': pq[0],\n",
    "            'Q': pq[1],\n",
    "            'I': gen.GetAttribute('m:I:bus1'),\n",
    "            'V': gen.GetAttribute('m:U1:bus1'),    # line-to-ground voltage\n",
    "            'Vl': gen.GetAttribute('m:U1l:bus1')  # line-to-line voltage\n",
    "        }\n",
    "        Ptot += pq[0]\n",
    "        Qtot += pq[1]\n",
    "    results['generators']['Ptot'] = Ptot\n",
    "    results['generators']['Qtot'] = Qtot\n",
    "        \n",
    "    Ptot, Qtot = 0, 0\n",
    "    for load in loads:\n",
    "        pq = [load.GetAttribute(f'm:{c}sum:bus1') for c in 'PQ']\n",
    "        results['loads'][load.loc_name] = {\n",
    "            'P': pq[0],\n",
    "            'Q': pq[1],\n",
    "            'I': load.GetAttribute('m:I:bus1'),\n",
    "            'V': load.GetAttribute('m:U1:bus1'),    # line-to-ground voltage\n",
    "            'Vl': load.GetAttribute('m:U1l:bus1'),  # line-to-line voltage\n",
    "        }\n",
    "        Ptot += pq[0]\n",
    "        Qtot += pq[1]\n",
    "    results['loads']['Ptot'] = Ptot\n",
    "    results['loads']['Qtot'] = Qtot\n",
    "    \n",
    "    for bus in buses:\n",
    "        results['buses'][bus.loc_name] = {\n",
    "            'voltage': bus.GetAttribute('m:u'),\n",
    "            'V': bus.GetAttribute('m:U'),\n",
    "            'Vl': bus.GetAttribute('m:Ul')\n",
    "        }\n",
    "\n",
    "    return results\n",
    "\n",
    "def print_load_flow(results):\n",
    "    print('\\n===== Generators =====')\n",
    "    for name,data in results['generators'].items():\n",
    "        if name not in ('Ptot','Qtot'):\n",
    "            print(f'{name}: P = {data[\"P\"]:7.2f} MW, Q = {data[\"Q\"]:6.2f} MVAR, ' + \n",
    "                  f'I = {data[\"I\"]:6.3f} kA, V = {data[\"V\"]:6.3f} kV.')\n",
    "    print(f'Total P = {results[\"generators\"][\"Ptot\"]*1e-3:5.2f} GW, total Q = {results[\"generators\"][\"Qtot\"]*1e-3:5.2f} GVAR')\n",
    "\n",
    "    print('\\n======= Buses ========')\n",
    "    for name,data in results['buses'].items():\n",
    "        print(f'{name}: voltage = {data[\"voltage\"]:5.3f} pu, V = {data[\"Vl\"]:7.3f} kV.')\n",
    "        \n",
    "    print('\\n======= Loads ========')\n",
    "    for name,data in results['loads'].items():\n",
    "        if name not in ('Ptot','Qtot'):\n",
    "            print(f'{name}: P = {data[\"P\"]:7.2f} MW, Q = {data[\"Q\"]:6.2f} MVAR, ' + \n",
    "                  f'I = {data[\"I\"]:6.3f} kA, V = {data[\"V\"]:8.3f} kV.')\n",
    "    print(f'Total P = {results[\"loads\"][\"Ptot\"]*1e-3:5.2f} GW, total Q = {results[\"loads\"][\"Qtot\"]*1e-3:5.2f} GVAR')"
   ]
  },
  {
   "cell_type": "code",
   "execution_count": null,
   "id": "965203dc",
   "metadata": {},
   "outputs": [],
   "source": [
    "defaults = {\n",
    "    'pgini':  [None, 163, 85],\n",
    "    'plini': [125, 90, 100],\n",
    "    'qlini': [50, 30, 35]\n",
    "}\n",
    "lf_res = {}\n",
    "LAMBDA = np.r_[0 : 31] / 100\n",
    "for coeff in LAMBDA:\n",
    "    for generator, pgini in zip(generators, defaults['pgini']):\n",
    "        if pgini is not None:\n",
    "            generator.pgini = (1 + coeff) * pgini\n",
    "    for load, plini, qlini in zip(loads, defaults['plini'], defaults['qlini']):\n",
    "        load.plini = (1 + coeff) * plini\n",
    "        load.qlini = (1 + coeff) * qlini\n",
    "    lf_res[coeff] = run_load_flow(project_folders['study'], generators, loads, buses)\n",
    "pickle.dump(lf_res, open('WSCC_9_bus_load_flow_digsilent_overload.pkl','wb'))\n",
    "\n",
    "### Reset the parameters to their default values\n",
    "for generator, pgini in zip(generators, defaults['pgini']):\n",
    "    if pgini is not None:\n",
    "        generator.pgini = pgini\n",
    "for load, plini, qlini in zip(loads, defaults['plini'], defaults['qlini']):\n",
    "    load.plini = plini\n",
    "    load.qlini = qlini"
   ]
  },
  {
   "cell_type": "code",
   "execution_count": null,
   "id": "06e22264",
   "metadata": {},
   "outputs": [],
   "source": [
    "lf_res = run_load_flow(project_folders['study'], generators, loads, buses)\n",
    "pickle.dump(lf_res, open('WSCC_9_bus_load_flow_digsilent.pkl','wb'))\n",
    "print_load_flow(lf_res)"
   ]
  }
 ],
 "metadata": {
  "kernelspec": {
   "display_name": "Python 3",
   "language": "python",
   "name": "python3"
  },
  "language_info": {
   "codemirror_mode": {
    "name": "ipython",
    "version": 3
   },
   "file_extension": ".py",
   "mimetype": "text/x-python",
   "name": "python",
   "nbconvert_exporter": "python",
   "pygments_lexer": "ipython3",
   "version": "3.8.8"
  }
 },
 "nbformat": 4,
 "nbformat_minor": 5
}
